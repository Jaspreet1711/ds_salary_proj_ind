{
 "cells": [
  {
   "cell_type": "code",
   "execution_count": 1,
   "metadata": {},
   "outputs": [],
   "source": [
    "import pandas as pd\n",
    "import numpy as np\n",
    "import Glassdoor_Scraper_V2 as gs"
   ]
  },
  {
   "cell_type": "code",
   "execution_count": 3,
   "metadata": {},
   "outputs": [
    {
     "name": "stdout",
     "output_type": "stream",
     "text": [
      "\u001b[1mThis function will fetch details from Glassdoor Website uptill pages given by you of various openings of any role or job title within a location given by you.\n",
      "Details will be fetched in excel format.\n",
      " \n",
      "You will be required to download chromedriver.exe from the link mentioned below: \n",
      "https://chromedriver.chromium.org/downloads\n",
      "Copy & paste the downloaded chromedriver.exe in the same folder where you have saved this Glassdoor_Scraper.py file\n",
      "\u001b[93mChange the Path (in code line 80 in Glassdoor_Scraper.py) to your system path where you have saved the chromediver.exe\n",
      "\u001b[92mYour output excel will be saved in same folder.\n",
      " \n",
      "Enter the Job_title or Role: Data Scientist\n",
      "Enter the location: New York City\n",
      "Enter num of pages you want to scrape: 1\n",
      " \n",
      "Depending upon your Internet Speed decide second(s) to wait before page fully uploads\n",
      "3 Seconds are ideal. Go for 4 or 5 Seconds if your Internet Speed is really slow.\n",
      "If you have fast Internet 2 Seconds are appropriate\n",
      "Enter Second(s) for page load time: 4\n",
      "Enter the Output file name you want to save: DS Jobs in NYC2\n",
      " \n",
      " \n",
      "\u001b[93mIt will take approximately 5 mins to scrape through 5 pages with all details into dataframe\n",
      " \n",
      " \n",
      "\u001b[92mOpening_the_Glassdoor_Website_in_ChromeBrowser\n",
      "\u001b[94mJob Search Tag - Glassdoor\n",
      "\u001b[92mSearching_for_Job_Entered_by_you\n",
      "\u001b[93mJob_is_Successfully_Searched\n",
      "\u001b[92mIt_will_search_Jobs_on_location_entered\n",
      "\u001b[1mWait_for_few_seconds_as_page_loading_takes_time_while_searching_jobs_on_location\n",
      " \n",
      " \n",
      "\u001b[1mFinding_Page_Number_Change_Elements_on_WebPage\n",
      "\u001b[92mIt_Will_first_Let_Login-Pop-up_Trigger_and_Close_it_for_smooth_Scraping_ahead\n",
      "\u001b[92mWaiting_for_Login_Pop-up\n",
      "\u001b[93mLogin_Pop_up_Closed_Successfully\n",
      "\u001b[93mPage_Numbers_Element_Found_Successfully\n",
      " \n",
      " \n",
      "\u001b[94mNow_Scraping_will_start_from_page-1_till_page-1\n",
      " \n",
      "\u001b[92mCollecting_all_Job_Opening_Details_on_Page-1 - In Element Form\n",
      "\u001b[92mExtracting_Text_from_Elements_collected_in_Page-1\n",
      "\u001b[93mAll_Details_Retrieved_Successfully_from_page-1\n",
      "\u001b[96mGetting_JobDescription_on_page-1_Wait_for_Few_More_Seconds\n",
      " \n",
      "\u001b[93mScraping_Job_Done_for_all_1_Page(s)\n",
      " \n",
      " \n",
      "\u001b[92mArranging data in DataFrame\n",
      " \n",
      " \n",
      "\u001b[93mDataFrame is made successfully and named DS Jobs in NYC2 with all the details.\n",
      "\u001b[93mOutput will be saved in excel format in your system.\n",
      " \n",
      " \n",
      "\u001b[93mDS Jobs in NYC2.xlsx is Successfully Saved in your system.\n",
      "\u001b[93mCheck your folder with Excel File named - DS Jobs in NYC2.xlsx\n"
     ]
    }
   ],
   "source": [
    "gs.gl_scrap()"
   ]
  },
  {
   "cell_type": "code",
   "execution_count": null,
   "metadata": {},
   "outputs": [],
   "source": []
  }
 ],
 "metadata": {
  "kernelspec": {
   "display_name": "Python 3",
   "language": "python",
   "name": "python3"
  },
  "language_info": {
   "codemirror_mode": {
    "name": "ipython",
    "version": 3
   },
   "file_extension": ".py",
   "mimetype": "text/x-python",
   "name": "python",
   "nbconvert_exporter": "python",
   "pygments_lexer": "ipython3",
   "version": "3.8.3"
  }
 },
 "nbformat": 4,
 "nbformat_minor": 4
}
